{
 "cells": [
  {
   "cell_type": "code",
   "execution_count": 29,
   "id": "0f5d8230-779c-4d2a-bd47-6fefe3dde318",
   "metadata": {},
   "outputs": [],
   "source": [
    "#Import Libraries\n",
    "import pandas as pd\n",
    "import numpy as np\n",
    "from sklearn.decomposition import TruncatedSVD\n",
    "from scipy.sparse import csr_matrix\n",
    "from sklearn.metrics import mean_squared_error, mean_absolute_error\n",
    "from sklearn.preprocessing import LabelEncoder\n",
    "from sklearn.metrics.pairwise import cosine_similarity"
   ]
  },
  {
   "cell_type": "code",
   "execution_count": 30,
   "id": "bb4236cb-2e55-4db9-b426-5463a9bb7657",
   "metadata": {},
   "outputs": [],
   "source": [
    "#Load and Merge Dataset\n",
    "ratings = pd.read_csv('ratings.csv')\n",
    "movies = pd.read_csv('movies.csv')\n",
    "\n",
    "df = pd.merge(ratings, movies, on='movieId')"
   ]
  },
  {
   "cell_type": "code",
   "execution_count": 31,
   "id": "48179960-1116-4eac-9a1e-9a10cae6db4e",
   "metadata": {},
   "outputs": [],
   "source": [
    "#Encode Users and Movies\n",
    "user_encoder = LabelEncoder()\n",
    "movie_encoder = LabelEncoder()\n",
    "df_small = df.copy()\n",
    "df['user_idx'] = user_encoder.fit_transform(df['userId'])\n",
    "df['movie_idx'] = movie_encoder.fit_transform(df['title'])"
   ]
  },
  {
   "cell_type": "code",
   "execution_count": 32,
   "id": "d9cd62a5-3571-4d7d-b087-c0c31462013a",
   "metadata": {},
   "outputs": [],
   "source": [
    "#Create Sparse Matrix\n",
    "ratings_sparse = csr_matrix((df['rating'], (df['user_idx'], df['movie_idx'])))"
   ]
  },
  {
   "cell_type": "code",
   "execution_count": 33,
   "id": "be05eb83-c99f-4ccb-9234-417bff318058",
   "metadata": {},
   "outputs": [],
   "source": [
    "#Apply SVD\n",
    "n_components = 100\n",
    "svd = TruncatedSVD(n_components=n_components, random_state=42)\n",
    "\n",
    "user_factors = svd.fit_transform(ratings_sparse)\n",
    "movie_factors = svd.components_.T # Transpose for later dot-product"
   ]
  },
  {
   "cell_type": "code",
   "execution_count": 34,
   "id": "708ddf65-9dff-45eb-884f-83a2f3553881",
   "metadata": {},
   "outputs": [],
   "source": [
    "import difflib\n",
    "\n",
    "# Function to Recommend Similar Movies Based on Input Movie Name\n",
    "def recommend_similar_movies(movie_name, movie_encoder, movie_factors, top_n=10):\n",
    "    # Use fuzzy matching to get closest match\n",
    "    all_titles = movie_encoder.classes_  # all known movie titles from encoder\n",
    "    close_matches = difflib.get_close_matches(movie_name, all_titles, n=1, cutoff=0.5)\n",
    "\n",
    "    if not close_matches:\n",
    "        print(f\"No close match found for '{movie_name}' in the dataset.\")\n",
    "        return pd.DataFrame()\n",
    "\n",
    "    best_match = close_matches[0]\n",
    "    print(f\"Closest match found: '{best_match}'\")\n",
    "\n",
    "    try:\n",
    "        movie_idx = movie_encoder.transform([best_match])[0]\n",
    "    except:\n",
    "        print(f\"Matched movie '{best_match}' could not be encoded.\")\n",
    "        return pd.DataFrame()\n",
    "\n",
    "    # Vector of the input movie\n",
    "    input_vector = movie_factors[movie_idx].reshape(1, -1)\n",
    "\n",
    "    # Cosine similarity with all movies\n",
    "    similarities = cosine_similarity(input_vector, movie_factors).flatten()\n",
    "\n",
    "    # Get top-N similar movie indices (excluding the input movie)\n",
    "    similar_indices = similarities.argsort()[::-1][1:top_n + 1]\n",
    "    similar_titles = movie_encoder.inverse_transform(similar_indices)\n",
    "    similar_scores = similarities[similar_indices]\n",
    "\n",
    "    # Return results\n",
    "    return pd.DataFrame({\n",
    "        'title': similar_titles,\n",
    "        'similarity_score': similar_scores\n",
    "    })\n"
   ]
  },
  {
   "cell_type": "code",
   "execution_count": 35,
   "id": "719a2189-62b9-48fd-ab39-10670741893f",
   "metadata": {},
   "outputs": [
    {
     "name": "stdout",
     "output_type": "stream",
     "text": [
      "RMSE: 3.0758\n",
      "MAE: 2.8555\n"
     ]
    }
   ],
   "source": [
    "# Evaluate Model (Optional but good for validation)\n",
    "from sklearn.model_selection import train_test_split\n",
    "\n",
    "# Filter top users to reduce sparsity\n",
    "top_users = df['userId'].value_counts().head(500).index\n",
    "df_small = df[df['userId'].isin(top_users)]\n",
    "\n",
    "# Re-encode after filtering\n",
    "df_small.loc[:, 'user_idx'] = user_encoder.fit_transform(df_small['userId'])\n",
    "df_small.loc[:, 'movie_idx'] = movie_encoder.fit_transform(df_small['title'])\n",
    "\n",
    "# Train-test split\n",
    "train_df, test_df = train_test_split(df_small, test_size=0.2, random_state=42)\n",
    "\n",
    "# Train matrix\n",
    "train_matrix = csr_matrix(\n",
    "    (train_df['rating'], (train_df['user_idx'], train_df['movie_idx'])),\n",
    "    shape=(df_small['user_idx'].nunique(), df_small['movie_idx'].nunique())\n",
    ")\n",
    "\n",
    "# Final SVD for recommendation based on all ratings\n",
    "final_matrix = csr_matrix((df['rating'], (df['user_idx'], df['movie_idx'])))\n",
    "svd_final = TruncatedSVD(n_components=100, random_state=42)\n",
    "user_factors = svd_final.fit_transform(final_matrix)\n",
    "movie_factors = svd_final.components_.T  # ✅ Now movie_factors is defined again\n",
    "\n",
    "# Predict ratings for test set\n",
    "predictions, actuals = [], []\n",
    "for _, row in test_df.iterrows():\n",
    "    u, m = row['user_idx'], row['movie_idx']\n",
    "    if u < user_factors_eval.shape[0] and m < movie_factors_eval.shape[0]:\n",
    "        pred = np.dot(user_factors_eval[u], movie_factors_eval[m])\n",
    "        predictions.append(pred)\n",
    "        actuals.append(row['rating'])\n",
    "\n",
    "# Evaluation metrics\n",
    "rmse = np.sqrt(mean_squared_error(actuals, predictions))\n",
    "mae = mean_absolute_error(actuals, predictions)\n",
    "print(f\"RMSE: {rmse:.4f}\")\n",
    "print(f\"MAE: {mae:.4f}\")"
   ]
  },
  {
   "cell_type": "code",
   "execution_count": 36,
   "id": "6be0d287-52cb-483c-9fc8-7c6230fb6460",
   "metadata": {},
   "outputs": [
    {
     "name": "stdin",
     "output_type": "stream",
     "text": [
      "Enter a movie title:  Toy Story\n"
     ]
    },
    {
     "name": "stdout",
     "output_type": "stream",
     "text": [
      "Closest match found: 'Toy Story (1995)'\n",
      "\n",
      "Top similar movies:\n",
      "                                               title  similarity_score\n",
      "0                                  Ghost Town (2008)          0.508477\n",
      "1                     Capturing the Friedmans (2003)          0.494994\n",
      "2                                House Arrest (1996)          0.465743\n",
      "3            Scooby-Doo 2: Monsters Unleashed (2004)          0.448779\n",
      "4                            House Bunny, The (2008)          0.442754\n",
      "5                                    Stroszek (1977)          0.442634\n",
      "6                       Children of the Night (1991)          0.442085\n",
      "7                                   September (1987)          0.438661\n",
      "8          Escape from the Planet of the Apes (1971)          0.427087\n",
      "9  Return to Snowy River (a.k.a. The Man From Sno...          0.426393\n"
     ]
    }
   ],
   "source": [
    "input_movie = input(\"Enter a movie title: \")\n",
    "recommendations = recommend_similar_movies(input_movie, movie_encoder, movie_factors, top_n=10)\n",
    "print(\"\\nTop similar movies:\")\n",
    "print(recommendations)"
   ]
  },
  {
   "cell_type": "code",
   "execution_count": null,
   "id": "0093067b-e844-4a3a-b59b-42b00bbe9e28",
   "metadata": {},
   "outputs": [],
   "source": []
  }
 ],
 "metadata": {
  "kernelspec": {
   "display_name": "Python 3 (ipykernel)",
   "language": "python",
   "name": "python3"
  },
  "language_info": {
   "codemirror_mode": {
    "name": "ipython",
    "version": 3
   },
   "file_extension": ".py",
   "mimetype": "text/x-python",
   "name": "python",
   "nbconvert_exporter": "python",
   "pygments_lexer": "ipython3",
   "version": "3.10.18"
  }
 },
 "nbformat": 4,
 "nbformat_minor": 5
}
